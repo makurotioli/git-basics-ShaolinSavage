{
 "cells": [
  {
   "cell_type": "code",
   "execution_count": 1,
   "id": "8f37f98c",
   "metadata": {},
   "outputs": [],
   "source": [
    "import matplotlib.pyplot as plt\n",
    "import numpy as np"
   ]
  },
  {
   "cell_type": "markdown",
   "id": "02423637",
   "metadata": {
    "toc": true
   },
   "source": [
    "<h1>Table of Contents<span class=\"tocSkip\"></span></h1>\n",
    "<div class=\"toc\"><ul class=\"toc-item\"><li><span><a href=\"#Instructions\" data-toc-modified-id=\"Instructions-1\"><span class=\"toc-item-num\">1&nbsp;&nbsp;</span>Instructions</a></span></li><li><span><a href=\"#Readings\" data-toc-modified-id=\"Readings-2\"><span class=\"toc-item-num\">2&nbsp;&nbsp;</span>Readings</a></span></li><li><span><a href=\"#Solow-Swan-Model\" data-toc-modified-id=\"Solow-Swan-Model-3\"><span class=\"toc-item-num\">3&nbsp;&nbsp;</span>Solow-Swan Model</a></span><ul class=\"toc-item\"><li><span><a href=\"#Model-equilibrium-description\" data-toc-modified-id=\"Model-equilibrium-description-3.1\"><span class=\"toc-item-num\">3.1&nbsp;&nbsp;</span>Model equilibrium description</a></span></li></ul></li><li><span><a href=\"#Assignment\" data-toc-modified-id=\"Assignment-4\"><span class=\"toc-item-num\">4&nbsp;&nbsp;</span>Assignment</a></span><ul class=\"toc-item\"><li><span><a href=\"#Simulation-of-equilibrium-outcomes\" data-toc-modified-id=\"Simulation-of-equilibrium-outcomes-4.1\"><span class=\"toc-item-num\">4.1&nbsp;&nbsp;</span>Simulation of equilibrium outcomes</a></span></li></ul></li></ul></div>"
   ]
  },
  {
   "cell_type": "markdown",
   "id": "fd6fbaaa",
   "metadata": {},
   "source": [
    "# Instructions\n",
    "\n",
    "1. Use this notebook to provide your solutions. \n",
    "\n",
    "2. Submit executable notebook (``.ipynb`` file) to the course GitHub Classroom assignment using your linked GitHub account.\n",
    "\n",
    "3. Download a copy of your notebook to HTML and then save that as a PDF file. Upload that PDF file to the course Wattle assignment's *Turnitin*."
   ]
  },
  {
   "cell_type": "markdown",
   "id": "b6fb4936",
   "metadata": {},
   "source": [
    "# Readings\n",
    "\n",
    "* Daron Acemoglu, *Introduction to Modern Economic Growth*\n",
    "\n",
    "* David Romer, *Advanced Macroeconomics*\n",
    "\n",
    "* Charles I. Jones, *Macroeconomics*.\n",
    "\n"
   ]
  },
  {
   "cell_type": "markdown",
   "id": "bb7b5ba5",
   "metadata": {},
   "source": [
    "# Solow-Swan Model"
   ]
  },
  {
   "cell_type": "markdown",
   "id": "3c244c34",
   "metadata": {},
   "source": [
    "Time is assumed to be infinite but discrete: $t \\in \\{ 0, 1, 2, ... \\} \\equiv \\mathbb{N}$.\n",
    "\n",
    "The model assumes that people consume a constant fraction $0 < m < 1$ of their income flow $Y_{t}$ every period $t$:\n",
    "\n",
    "$$\n",
    "C_{t} = m Y_{t}.\n",
    "$$\n",
    "\n",
    "Income (or output) is generated from a production function $F$ that uses labor ($L_{t}$) and capital ($K_{t}$):\n",
    "\n",
    "$$\n",
    "Y_{t} = F(K_{t}, L_{t}) = AK_{t}^{\\alpha} L_{t}^{1-\\alpha},\n",
    "$$\n",
    "\n",
    "where $A > 0$ and $0 < \\alpha < 1$.\n",
    "\n",
    "Assume that capital is produced using this accumulation technology:\n",
    "\n",
    "$$\n",
    "      K_{t+1} = (1-\\delta)K_{t} + I_{t},\n",
    "$$\n",
    "where $0 < \\delta < 1$ and $I_{t}$ is new investment into capital goods.\n",
    "\n",
    "Labor supply:\n",
    "\n",
    "$$\n",
    "L_{t} = 1,\n",
    "$$\n",
    "\n",
    "where population size is 1.\n",
    "\n",
    "From national accounting identity:\n",
    "\n",
    "$$\n",
    "I_{t} = Y_{t} - C_{t}.\n",
    "$$"
   ]
  },
  {
   "cell_type": "markdown",
   "id": "eefa86f8",
   "metadata": {},
   "source": [
    "## Model equilibrium description"
   ]
  },
  {
   "cell_type": "markdown",
   "id": "66ae2bec",
   "metadata": {},
   "source": [
    "We can do a bit of algebra to simplify the system of five equations and five unknown variables above to one equation:"
   ]
  },
  {
   "cell_type": "markdown",
   "id": "0976750f",
   "metadata": {},
   "source": [
    "Rewrite consumption as:\n",
    "\n",
    "$$\n",
    "C_{t} = m AK_{t}^{\\alpha} L_{t}^{1-\\alpha} = m AK_{t}^{\\alpha}.\n",
    "$$"
   ]
  },
  {
   "cell_type": "markdown",
   "id": "98362743",
   "metadata": {},
   "source": [
    "Rewrite investment as \n",
    "\n",
    "$$\n",
    "I_{t} = (1-m)Y_{t} = (1-m)AK_{t}^{\\alpha}.\n",
    "$$"
   ]
  },
  {
   "cell_type": "markdown",
   "id": "c8923fcf",
   "metadata": {},
   "source": [
    "Using last equation, we have\n",
    "\n",
    "$$\n",
    "K_{t+1} = (1-\\delta)K_{t} + sAK_{t}^{\\alpha} \\equiv g(K_{t}),\n",
    "$$\n",
    "\n",
    "where $s = (1-m)$."
   ]
  },
  {
   "cell_type": "markdown",
   "id": "79e1a134",
   "metadata": {},
   "source": [
    "This describes a *dynamic equilibrium* of the model. It is a first-order difference equation in $K$."
   ]
  },
  {
   "cell_type": "markdown",
   "id": "c2c42a44",
   "metadata": {},
   "source": [
    "**Definition.** A *dynamic equilibrium* is a sequence of allocation outcomes $(K_{1}, K_{2},..., K_{t}, ...)$ that satisfies \n",
    "\n",
    "$$\n",
    "K_{t+1} = (1-\\delta)K_{t} + sAK_{t}^{\\alpha} \\equiv g(K_{t}),\n",
    "$$\n",
    "\n",
    "given an initial state $K_{0}$."
   ]
  },
  {
   "cell_type": "markdown",
   "id": "1ca57e79",
   "metadata": {},
   "source": [
    "# Assignment"
   ]
  },
  {
   "cell_type": "code",
   "execution_count": 2,
   "id": "17832ac9",
   "metadata": {},
   "outputs": [],
   "source": [
    "# Model parameters\n",
    "# =========================\n",
    "\n",
    "K0 = 0.1\n",
    "α = 0.33\n",
    "δ = 0.10\n",
    "A = 10.0\n",
    "s = 0.25\n",
    "L = 1.0"
   ]
  },
  {
   "cell_type": "code",
   "execution_count": 3,
   "id": "46385d39",
   "metadata": {},
   "outputs": [],
   "source": [
    "# Model primitive functions\n",
    "# =========================\n",
    "\n",
    "# Production function\n",
    "def F(K, L=1.0, A=1.0, α=0.33):\n",
    "    \"\"\"Cobb-Douglas production function\"\"\"\n",
    "    Y = A*(K**α)*(L**(1-α))\n",
    "    return Y\n",
    "\n",
    "# Equilibrium map/function g\n",
    "def g(K, L=1.0, A=1.0, α=0.33, δ=0.05, s=0.123):\n",
    "    \"\"\"Solow-Swan (simple version)\n",
    "    Equilibrium transition function.\n",
    "    \"\"\"\n",
    "    K_next = (1-δ)*K + s*F(K, L, A, α)\n",
    "    return K_next"
   ]
  },
  {
   "cell_type": "markdown",
   "id": "e97e87d0",
   "metadata": {},
   "source": [
    "**QUESTION 0.** \n",
    "\n",
    "1. Plot the function $g$ in a diagram with $K_{t}$ and $K_{t+1}$ on the horizontal and vertical axes, respectively.\n",
    "\n",
    "2. Superimpose the graph of a 45-degree line in the same diagram.\n",
    "\n",
    "3. What is this graphical device called? What is it useful for? Provide an example to illustrate its use. (Hint: This is stuff from your undergraduate or first-year Masters macro class.)"
   ]
  },
  {
   "cell_type": "markdown",
   "id": "1a5bf78f",
   "metadata": {},
   "source": [
    "**Answer 0.1 and 0.2.**"
   ]
  },
  {
   "cell_type": "code",
   "execution_count": 4,
   "id": "52a7341d",
   "metadata": {},
   "outputs": [],
   "source": [
    "# Questions 0-1 and 0-2: Your code here\n",
    "K_path = []\n",
    "K = K0\n",
    "\n",
    "def serial_correlation(l):\n",
    "    # Generate x and y axis from the list\n",
    "    x = l[:-1]\n",
    "    y = l[1:]\n",
    "    plt.plot(x, y)\n",
    "\n",
    "\n",
    "# Generate the path of K according to function g. Keep adding elements into the list until the function g repeats itself\n",
    "while (K in K_path) == False:\n",
    "    K_path.append(K)\n",
    "    K = g(K, L, A, α, δ, s)\n"
   ]
  },
  {
   "cell_type": "code",
   "execution_count": 5,
   "id": "8880f845-363f-4adc-8c7a-baa3e5626726",
   "metadata": {},
   "outputs": [
    {
     "data": {
      "image/png": "[encoded data removed]",
      "text/plain": [
       "<Figure size 432x288 with 1 Axes>"
      ]
     },
     "metadata": {
      "needs_background": "light"
     },
     "output_type": "display_data"
    }
   ],
   "source": [
    "# Plot the serial correlation graph of K\n",
    "serial_correlation(K_path)\n",
    "\n",
    "# Plot the 45-degree line\n",
    "plt.plot([0, 123], [0, 123])\n",
    "plt.ylabel('Capital Stock, $K_{t+1}$')\n",
    "plt.xlabel('Capital Stock, $K_{t}$')\n",
    "plt.show()"
   ]
  },
  {
   "cell_type": "markdown",
   "id": "320113f3",
   "metadata": {},
   "source": [
    "**Answer 0.3.**"
   ]
  },
  {
   "cell_type": "markdown",
   "id": "c86dbc42",
   "metadata": {},
   "source": [
    "This is a serial-correlation graph. It shows how the varieble in this period would affect the same varieble in the next period. When the curve is above the 45-degree line, the varieble is increasing on $K_{t}$. The farther the curve is from the 45-degree line, the faster the variable is increasing. An interception of the serial-correlation curve and the 45-degree line is a equilibrium.\n",
    "For example, in this case, such graph can be used to show the equilibrium level of $K$ in the Solow-Swan model. It can also be used to examine the existence of auto-correlation in the data series, while being plotted in scatter form."
   ]
  },
  {
   "cell_type": "markdown",
   "id": "dfa698b1",
   "metadata": {},
   "source": [
    "## Simulation of equilibrium outcomes"
   ]
  },
  {
   "cell_type": "code",
   "execution_count": 6,
   "id": "2d18d4c6",
   "metadata": {},
   "outputs": [
    {
     "data": {
      "text/plain": [
       "1.1431681486535354"
      ]
     },
     "execution_count": 6,
     "metadata": {},
     "output_type": "execute_result"
    }
   ],
   "source": [
    "# Example 1: Evaluate F at (K,L) default parameters\n",
    "F(1.5, 1)"
   ]
  },
  {
   "cell_type": "code",
   "execution_count": 7,
   "id": "46890b14",
   "metadata": {},
   "outputs": [
    {
     "data": {
      "text/plain": [
       "111.77487388973248"
      ]
     },
     "execution_count": 7,
     "metadata": {},
     "output_type": "execute_result"
    }
   ],
   "source": [
    "# Example 2: Evaluate F at (K,L) new parameters\n",
    "F(1.5, 1., A=101., α=0.25)"
   ]
  },
  {
   "cell_type": "markdown",
   "id": "75ae11b1",
   "metadata": {},
   "source": [
    "**QUESTION 1**. Write code to simulate the model's dynamic equilibrium *outcome* of capital stock, consumption, output/income and investment for ``T = 200`` periods:"
   ]
  },
  {
   "cell_type": "markdown",
   "id": "9d8ae0f8",
   "metadata": {},
   "source": [
    "**Answer 1.**"
   ]
  },
  {
   "cell_type": "code",
   "execution_count": 8,
   "id": "b4aa826a",
   "metadata": {},
   "outputs": [],
   "source": [
    "# Question 1: Your code here - use the comment headings as suggestive guide\n",
    "\n",
    "# Simulating the equilibrium\n",
    "# ==========================================================\n",
    "\n",
    "# Length of time path to simulate\n",
    "T = 200\n",
    "\n",
    "# Initial condition K0\n",
    "K = K0\n",
    "\n",
    "def recursive_evaluation(K, T, L=1.0, A=1.0, α=0.33, δ=0.05, s=0.123):\n",
    "\n",
    "    # Storage (list) to save results each period\n",
    "    K_sim = []\n",
    "    C_sim = []\n",
    "    F_sim = []\n",
    "    I_sim = []\n",
    "    \n",
    "    # Loop to recursively evaluate model equilibrium K --> g(K)?\n",
    "    for t in range(T):\n",
    "            K_sim.append(K)\n",
    "            C_sim.append((1 - s) * F(K, L, A, α))\n",
    "            F_sim.append(F(K, L, A, α))\n",
    "            I_sim.append(F_sim[t] - C_sim[t] )\n",
    "            #Generate K of the next period\n",
    "            K =  g(K, L, A, α, δ, s)\n",
    "            \n",
    "    simulated_pathway = {\n",
    "        'capital stock' : K_sim,\n",
    "        'consumption'   : C_sim,\n",
    "        'output/income' : F_sim,\n",
    "        'investment'    : I_sim,\n",
    "    }\n",
    "    return simulated_pathway\n"
   ]
  },
  {
   "cell_type": "markdown",
   "id": "ca7a150f",
   "metadata": {},
   "source": [
    "**QUESTION 2.** Now plot the time paths of what you just computed. (Put time $t$ on the horizontal and the outcome path of each variable on the vertical axis.)"
   ]
  },
  {
   "cell_type": "markdown",
   "id": "9431c5df",
   "metadata": {},
   "source": [
    "**Answer 2.**"
   ]
  },
  {
   "cell_type": "code",
   "execution_count": 9,
   "id": "123f7505-e106-4975-bd12-a94d97a8e26a",
   "metadata": {
    "slideshow": {
     "slide_type": "subslide"
    },
    "tags": []
   },
   "outputs": [],
   "source": [
    "def show_dynamics(dictionary, n_columns=2):\n",
    "    # Auto set number of rows in subplots\n",
    "    n_rows = (len(dictionary) // n_columns) + (len(dictionary) % n_columns)\n",
    "    # Instantiate figure and axes objects\n",
    "    fig, axes = plt.subplots(n_rows,n_columns, \n",
    "                             figsize=(15, 6), \n",
    "                             facecolor='w', edgecolor='k')\n",
    "    # Adjust spacing between subplots\n",
    "    fig.subplots_adjust(hspace = 0.5, wspace=.25)\n",
    "    # Flatten out axes object for looping over below\n",
    "    axes = axes.ravel()  \n",
    "    # Loop over each data array \"y\" indexed by \"key\" and plot\n",
    "    for panel, (key, y) in enumerate(dictionary.items()): \n",
    "        # x-axis variable\n",
    "        # --------------------\n",
    "        x = np.arange(len(y))\n",
    "        \n",
    "        # y-axis variable(s)\n",
    "        # --------------------\n",
    "        # Dynamic path \n",
    "        axes[panel].plot(x, y, lw=2, marker='o')\n",
    "        axes[panel].set_title(key)\n",
    "        axes[panel].set_xlabel(\"Date, $t$\")\n",
    "    plt.show()"
   ]
  },
  {
   "cell_type": "code",
   "execution_count": 10,
   "id": "aa3eecc7-b459-45c7-9e0a-99a3a13e0955",
   "metadata": {
    "tags": []
   },
   "outputs": [
    {
     "data": {
      "image/png": "[encoded data removed]",
      "text/plain": [
       "<Figure size 1080x432 with 4 Axes>"
      ]
     },
     "metadata": {},
     "output_type": "display_data"
    }
   ],
   "source": [
    "show_dynamics(recursive_evaluation(K, T, L, A, α, δ, s))"
   ]
  },
  {
   "cell_type": "markdown",
   "id": "f6adcf67",
   "metadata": {},
   "source": [
    "**QUESTION 3.** \n",
    "\n",
    "1. Now plot (or superimpose) the time path of $K$ you had earlier onto the graph you created at the beginning (i.e., the phase diagram).\n",
    "\n",
    "2. Comment on what you see and what you can learn about the behavior of the model, in this example."
   ]
  },
  {
   "cell_type": "markdown",
   "id": "1f0e000a",
   "metadata": {},
   "source": [
    "**Answer 3.**"
   ]
  },
  {
   "cell_type": "code",
   "execution_count": 11,
   "id": "a4ba7814",
   "metadata": {},
   "outputs": [
    {
     "data": {
      "image/png": "[encoded data removed]",
      "text/plain": [
       "<Figure size 432x288 with 1 Axes>"
      ]
     },
     "metadata": {
      "needs_background": "light"
     },
     "output_type": "display_data"
    }
   ],
   "source": [
    "# Question 3: Your code here\n",
    "serial_correlation(K_path)\n",
    "plt.plot([0, 123], [0, 123])\n",
    "\n",
    "# For the sake of good visualisation, only pick the first 123 elements of the simulated pathway\n",
    "plt.plot(range(123), recursive_evaluation(K, T, L, A, α, δ, s)['capital stock'][:123])\n",
    "\n",
    "plt.ylabel('Capital Stock, $K_{t+1}$')\n",
    "plt.xlabel('Capital Stock, $K_{t}$ / Date, t')\n",
    "\n",
    "plt.show()"
   ]
  },
  {
   "cell_type": "markdown",
   "id": "b38989d8",
   "metadata": {},
   "source": [
    "The red line is the 45-degree line. The blue curve is the serial-correlation graph of $K$. The green curve is the time path of $K$.\n",
    "According to the green curve, $K$ is increasing in the beginning, before reaching its dynamic equilibrium at around $K = 120$. The growth rate of $K$ drastically slows down after going above 100. This is consistent with the interaction between the blue curve and the red line, i.e. the serial-correlation graph and the 45-degree line. The blue curve becomes close to the red line after $K_{t} > 100$, and crosses the red line at around $(120, 120)$.\n",
    "\n",
    "\n",
    "\n",
    "\n"
   ]
  },
  {
   "cell_type": "markdown",
   "id": "3f691f26",
   "metadata": {},
   "source": [
    "**QUESTION 4.** *This question tests your economic story-telling creativity and mastery of the skills learned thus far*."
   ]
  },
  {
   "cell_type": "markdown",
   "id": "1fef310f",
   "metadata": {},
   "source": [
    "![All countries](images/nonconvergence.png)"
   ]
  },
  {
   "cell_type": "markdown",
   "id": "1e8d5d7c",
   "metadata": {},
   "source": [
    "You are just fresh out of your undegraduate program and working as an intern for the global development bank called *Huanqiu Yinhang* (or HY).\n",
    "\n",
    "Your supervisors at HY want *a narrative for the observation that many countries overall do not seem to catch up to the rest of the developed nations*, in terms of per-capita income (\"living standard\"). \n",
    "\n",
    "* A motivating figure is that above: On the horizontal axis, we measure the percentage deviation of a country's living standard from that of the US in the year 1960. On the vertical axis, we measure the averaged growth rate between 1960 and 2000. Each dot corresponds to a country. The plot includes a linear regression fit of the scatter plot, with a 95% confidence band calculated using bootsrap methods. \n",
    "\n",
    "Provide a simulation or experiment using the model above to illustrate how the model can rationalize this empirical possibility. Be clear about what you can explain from *within* the model's logic and what is your speculation outside of the model. Hint: *Construct two example countries that are all else identical but for one difference*. "
   ]
  },
  {
   "cell_type": "code",
   "execution_count": 12,
   "id": "044029a0",
   "metadata": {},
   "outputs": [
    {
     "data": {
      "text/plain": [
       "[<matplotlib.lines.Line2D at 0x1e35bb87100>]"
      ]
     },
     "execution_count": 12,
     "metadata": {},
     "output_type": "execute_result"
    },
    {
     "data": {
      "image/png": "[encoded data removed]",
      "text/plain": [
       "<Figure size 432x288 with 1 Axes>"
      ]
     },
     "metadata": {
      "needs_background": "light"
     },
     "output_type": "display_data"
    }
   ],
   "source": [
    "# Question 4: Your code here\n",
    "T = 150\n",
    "K = 1.0\n",
    "\n",
    "plt.plot(range(T), recursive_evaluation(K, T)['capital stock'])\n",
    "plt.plot(range(T), recursive_evaluation(K, T, A = 1.2)['capital stock'])\n"
   ]
  },
  {
   "cell_type": "markdown",
   "id": "1fd4775b",
   "metadata": {},
   "source": [
    "**Answer 4.**\n",
    "\n",
    "*Your explanation of your experimental design within the model setting and of the result(s) you get here.*"
   ]
  },
  {
   "cell_type": "markdown",
   "id": "73876f4b-3314-467e-8fcf-27b2c2b4d9ac",
   "metadata": {},
   "source": [
    "The experiment shows that, it is likely the difference in technology/productivity $A$ which results in the failure of convergence towards developed countries in some regions. In this experiment, two countries starts at the same initial capital stock $K_{0}$,  ceteris paribus, only the technology/productivity $A$ is 1.0 for one country, 1.2 for the other. The result of the model simulation shows that the two countries' level of convergence differ significantly. With a 20% rise in the productivity, the level of convergence increases aboun 71%.\n",
    "The notation $A$ in this case represents not only the level of technology level, but also the human capital involved in the production. For example, the spirit of innovation, a smooth and transparent government structure, a stable social and political environment etc. can all lead to a higher $A$. Therefore, though some countries are not lagging in technology, their living standards might still fail to converge to the developed countries."
   ]
  }
 ],
 "metadata": {
  "kernelspec": {
   "display_name": "Python 3 (ipykernel)",
   "language": "python",
   "name": "python3"
  },
  "language_info": {
   "codemirror_mode": {
    "name": "ipython",
    "version": 3
   },
   "file_extension": ".py",
   "mimetype": "text/x-python",
   "name": "python",
   "nbconvert_exporter": "python",
   "pygments_lexer": "ipython3",
   "version": "3.9.7"
  },
  "latex_envs": {
   "LaTeX_envs_menu_present": true,
   "autoclose": false,
   "autocomplete": true,
   "bibliofile": "biblio.bib",
   "cite_by": "apalike",
   "current_citInitial": 1,
   "eqLabelWithNumbers": true,
   "eqNumInitial": 1,
   "hotkeys": {
    "equation": "Ctrl-E",
    "itemize": "Ctrl-I"
   },
   "labels_anchors": false,
   "latex_user_defs": false,
   "report_style_numbering": false,
   "user_envs_cfg": false
  },
  "toc": {
   "base_numbering": 1,
   "nav_menu": {},
   "number_sections": true,
   "sideBar": true,
   "skip_h1_title": false,
   "title_cell": "Table of Contents",
   "title_sidebar": "Contents",
   "toc_cell": true,
   "toc_position": {},
   "toc_section_display": true,
   "toc_window_display": true
  }
 },
 "nbformat": 4,
 "nbformat_minor": 5
}
